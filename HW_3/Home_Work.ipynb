{
 "cells": [
  {
   "cell_type": "code",
   "execution_count": 1,
   "id": "30a88a0a",
   "metadata": {},
   "outputs": [],
   "source": [
    "import pandas as pd\n",
    "import numpy as np\n",
    "import matplotlib.pyplot as plt\n",
    "import seaborn as sns"
   ]
  },
  {
   "cell_type": "code",
   "execution_count": 2,
   "id": "80c556ea",
   "metadata": {},
   "outputs": [
    {
     "data": {
      "text/html": [
       "<div>\n",
       "<style scoped>\n",
       "    .dataframe tbody tr th:only-of-type {\n",
       "        vertical-align: middle;\n",
       "    }\n",
       "\n",
       "    .dataframe tbody tr th {\n",
       "        vertical-align: top;\n",
       "    }\n",
       "\n",
       "    .dataframe thead th {\n",
       "        text-align: right;\n",
       "    }\n",
       "</style>\n",
       "<table border=\"1\" class=\"dataframe\">\n",
       "  <thead>\n",
       "    <tr style=\"text-align: right;\">\n",
       "      <th></th>\n",
       "      <th>longitude</th>\n",
       "      <th>latitude</th>\n",
       "      <th>housing_median_age</th>\n",
       "      <th>total_rooms</th>\n",
       "      <th>total_bedrooms</th>\n",
       "      <th>population</th>\n",
       "      <th>households</th>\n",
       "      <th>median_income</th>\n",
       "      <th>median_house_value</th>\n",
       "      <th>ocean_proximity</th>\n",
       "    </tr>\n",
       "  </thead>\n",
       "  <tbody>\n",
       "    <tr>\n",
       "      <th>0</th>\n",
       "      <td>-122.23</td>\n",
       "      <td>37.88</td>\n",
       "      <td>41.0</td>\n",
       "      <td>880.0</td>\n",
       "      <td>129.0</td>\n",
       "      <td>322.0</td>\n",
       "      <td>126.0</td>\n",
       "      <td>8.3252</td>\n",
       "      <td>452600.0</td>\n",
       "      <td>NEAR BAY</td>\n",
       "    </tr>\n",
       "    <tr>\n",
       "      <th>1</th>\n",
       "      <td>-122.22</td>\n",
       "      <td>37.86</td>\n",
       "      <td>21.0</td>\n",
       "      <td>7099.0</td>\n",
       "      <td>1106.0</td>\n",
       "      <td>2401.0</td>\n",
       "      <td>1138.0</td>\n",
       "      <td>8.3014</td>\n",
       "      <td>358500.0</td>\n",
       "      <td>NEAR BAY</td>\n",
       "    </tr>\n",
       "    <tr>\n",
       "      <th>2</th>\n",
       "      <td>-122.24</td>\n",
       "      <td>37.85</td>\n",
       "      <td>52.0</td>\n",
       "      <td>1467.0</td>\n",
       "      <td>190.0</td>\n",
       "      <td>496.0</td>\n",
       "      <td>177.0</td>\n",
       "      <td>7.2574</td>\n",
       "      <td>352100.0</td>\n",
       "      <td>NEAR BAY</td>\n",
       "    </tr>\n",
       "    <tr>\n",
       "      <th>3</th>\n",
       "      <td>-122.25</td>\n",
       "      <td>37.85</td>\n",
       "      <td>52.0</td>\n",
       "      <td>1274.0</td>\n",
       "      <td>235.0</td>\n",
       "      <td>558.0</td>\n",
       "      <td>219.0</td>\n",
       "      <td>5.6431</td>\n",
       "      <td>341300.0</td>\n",
       "      <td>NEAR BAY</td>\n",
       "    </tr>\n",
       "    <tr>\n",
       "      <th>4</th>\n",
       "      <td>-122.25</td>\n",
       "      <td>37.85</td>\n",
       "      <td>52.0</td>\n",
       "      <td>1627.0</td>\n",
       "      <td>280.0</td>\n",
       "      <td>565.0</td>\n",
       "      <td>259.0</td>\n",
       "      <td>3.8462</td>\n",
       "      <td>342200.0</td>\n",
       "      <td>NEAR BAY</td>\n",
       "    </tr>\n",
       "  </tbody>\n",
       "</table>\n",
       "</div>"
      ],
      "text/plain": [
       "   longitude  latitude  housing_median_age  total_rooms  total_bedrooms  \\\n",
       "0    -122.23     37.88                41.0        880.0           129.0   \n",
       "1    -122.22     37.86                21.0       7099.0          1106.0   \n",
       "2    -122.24     37.85                52.0       1467.0           190.0   \n",
       "3    -122.25     37.85                52.0       1274.0           235.0   \n",
       "4    -122.25     37.85                52.0       1627.0           280.0   \n",
       "\n",
       "   population  households  median_income  median_house_value ocean_proximity  \n",
       "0       322.0       126.0         8.3252            452600.0        NEAR BAY  \n",
       "1      2401.0      1138.0         8.3014            358500.0        NEAR BAY  \n",
       "2       496.0       177.0         7.2574            352100.0        NEAR BAY  \n",
       "3       558.0       219.0         5.6431            341300.0        NEAR BAY  \n",
       "4       565.0       259.0         3.8462            342200.0        NEAR BAY  "
      ]
     },
     "execution_count": 2,
     "metadata": {},
     "output_type": "execute_result"
    }
   ],
   "source": [
    "data = pd.read_csv(\"housing.csv\")\n",
    "data.head()"
   ]
  },
  {
   "cell_type": "code",
   "execution_count": 3,
   "id": "36e38828",
   "metadata": {},
   "outputs": [
    {
     "data": {
      "text/plain": [
       "(20640, 10)"
      ]
     },
     "execution_count": 3,
     "metadata": {},
     "output_type": "execute_result"
    }
   ],
   "source": [
    "data.shape"
   ]
  },
  {
   "cell_type": "code",
   "execution_count": 4,
   "id": "796009d6",
   "metadata": {},
   "outputs": [
    {
     "data": {
      "text/plain": [
       "Index(['longitude', 'latitude', 'housing_median_age', 'total_rooms',\n",
       "       'total_bedrooms', 'population', 'households', 'median_income',\n",
       "       'median_house_value', 'ocean_proximity'],\n",
       "      dtype='object')"
      ]
     },
     "execution_count": 4,
     "metadata": {},
     "output_type": "execute_result"
    }
   ],
   "source": [
    "data.columns"
   ]
  },
  {
   "cell_type": "code",
   "execution_count": 5,
   "id": "224b2acb",
   "metadata": {},
   "outputs": [
    {
     "data": {
      "text/plain": [
       "longitude               0\n",
       "latitude                0\n",
       "housing_median_age      0\n",
       "total_rooms             0\n",
       "total_bedrooms        207\n",
       "population              0\n",
       "households              0\n",
       "median_income           0\n",
       "median_house_value      0\n",
       "ocean_proximity         0\n",
       "dtype: int64"
      ]
     },
     "execution_count": 5,
     "metadata": {},
     "output_type": "execute_result"
    }
   ],
   "source": [
    "data.isnull().sum()"
   ]
  },
  {
   "cell_type": "code",
   "execution_count": 6,
   "id": "6808814c",
   "metadata": {},
   "outputs": [],
   "source": [
    "data['total_bedrooms'] = data.total_bedrooms.fillna(0)"
   ]
  },
  {
   "cell_type": "code",
   "execution_count": 7,
   "id": "b62ec579",
   "metadata": {},
   "outputs": [
    {
     "data": {
      "text/plain": [
       "longitude             float64\n",
       "latitude              float64\n",
       "housing_median_age    float64\n",
       "total_rooms           float64\n",
       "total_bedrooms        float64\n",
       "population            float64\n",
       "households            float64\n",
       "median_income         float64\n",
       "median_house_value    float64\n",
       "ocean_proximity        object\n",
       "dtype: object"
      ]
     },
     "execution_count": 7,
     "metadata": {},
     "output_type": "execute_result"
    }
   ],
   "source": [
    "data.dtypes"
   ]
  },
  {
   "cell_type": "code",
   "execution_count": 8,
   "id": "25b21bec",
   "metadata": {},
   "outputs": [],
   "source": [
    "data[\"rooms_per_household\"] = data[\"total_rooms\"] / data[\"households\"]\n",
    "data[\"bedrooms_per_room\"] = data[\"total_bedrooms\"] / data[\"total_rooms\"]\n",
    "data[\"population_per_household\"] = data[\"population\"] / data[\"households\"]"
   ]
  },
  {
   "cell_type": "markdown",
   "id": "d6bfe71e",
   "metadata": {},
   "source": [
    "### Question 1\n",
    "What is the most frequent observation (mode) for the column ocean_proximity?"
   ]
  },
  {
   "cell_type": "code",
   "execution_count": 9,
   "id": "95eb19ec",
   "metadata": {},
   "outputs": [
    {
     "name": "stdout",
     "output_type": "stream",
     "text": [
      "The most frequent observation for the column ocean_proximity is, <1H OCEAN\n"
     ]
    }
   ],
   "source": [
    "M = data['ocean_proximity'].mode()\n",
    "\n",
    "print(f\"The most frequent observation for the column ocean_proximity is, {M[0]}\")"
   ]
  },
  {
   "cell_type": "code",
   "execution_count": 10,
   "id": "ce893cbc",
   "metadata": {},
   "outputs": [],
   "source": [
    "cols = ['longitude', 'latitude', 'housing_median_age', 'total_rooms',\n",
    "       'total_bedrooms', 'population', 'households', 'median_income',\n",
    "       'median_house_value','rooms_per_household',\n",
    "       'bedrooms_per_room', 'population_per_household']"
   ]
  },
  {
   "cell_type": "markdown",
   "id": "e0ba2a1d",
   "metadata": {},
   "source": [
    "### Question 2"
   ]
  },
  {
   "cell_type": "code",
   "execution_count": 11,
   "id": "e10f2d9a",
   "metadata": {},
   "outputs": [],
   "source": [
    "from sklearn.model_selection import train_test_split"
   ]
  },
  {
   "cell_type": "code",
   "execution_count": 12,
   "id": "a4dbc3fa",
   "metadata": {},
   "outputs": [],
   "source": [
    "#Binarize our target data\n",
    "data['above_average'] = (data.median_house_value > data.median_house_value.mean()).astype(int)"
   ]
  },
  {
   "cell_type": "code",
   "execution_count": 13,
   "id": "6477f757",
   "metadata": {},
   "outputs": [
    {
     "data": {
      "text/plain": [
       "Index(['longitude', 'latitude', 'housing_median_age', 'total_rooms',\n",
       "       'total_bedrooms', 'population', 'households', 'median_income',\n",
       "       'median_house_value', 'ocean_proximity', 'rooms_per_household',\n",
       "       'bedrooms_per_room', 'population_per_household', 'above_average'],\n",
       "      dtype='object')"
      ]
     },
     "execution_count": 13,
     "metadata": {},
     "output_type": "execute_result"
    }
   ],
   "source": [
    "data.columns"
   ]
  },
  {
   "cell_type": "code",
   "execution_count": 14,
   "id": "21a40dde",
   "metadata": {},
   "outputs": [],
   "source": [
    "# df_train 80% and df_test 20%\n",
    "df_full_train , df_test = train_test_split(data, test_size = 0.2, random_state = 1)"
   ]
  },
  {
   "cell_type": "code",
   "execution_count": 15,
   "id": "ba5b11b6",
   "metadata": {},
   "outputs": [
    {
     "data": {
      "text/plain": [
       "((16512, 14), (4128, 14))"
      ]
     },
     "execution_count": 15,
     "metadata": {},
     "output_type": "execute_result"
    }
   ],
   "source": [
    "df_full_train.shape, df_test.shape"
   ]
  },
  {
   "cell_type": "code",
   "execution_count": 16,
   "id": "8cdb493d",
   "metadata": {},
   "outputs": [],
   "source": [
    "# get 20% from the df_full_train\n",
    "df_train , df_val = train_test_split(df_full_train, test_size = 0.25, random_state = 1)"
   ]
  },
  {
   "cell_type": "code",
   "execution_count": 17,
   "id": "d8ef3873",
   "metadata": {},
   "outputs": [
    {
     "data": {
      "text/plain": [
       "(12384, 4128, 4128)"
      ]
     },
     "execution_count": 17,
     "metadata": {},
     "output_type": "execute_result"
    }
   ],
   "source": [
    "len(df_train), len(df_val), len(df_test)"
   ]
  },
  {
   "cell_type": "code",
   "execution_count": 18,
   "id": "a70a415b",
   "metadata": {},
   "outputs": [],
   "source": [
    "#reset the index for all the dataframes\n",
    "\n",
    "df_train = df_train.reset_index(drop=True)\n",
    "df_val = df_val.reset_index(drop=True)\n",
    "df_test = df_test.reset_index(drop=True)"
   ]
  },
  {
   "cell_type": "code",
   "execution_count": 19,
   "id": "4a29b7b8",
   "metadata": {},
   "outputs": [
    {
     "data": {
      "text/html": [
       "<div>\n",
       "<style scoped>\n",
       "    .dataframe tbody tr th:only-of-type {\n",
       "        vertical-align: middle;\n",
       "    }\n",
       "\n",
       "    .dataframe tbody tr th {\n",
       "        vertical-align: top;\n",
       "    }\n",
       "\n",
       "    .dataframe thead th {\n",
       "        text-align: right;\n",
       "    }\n",
       "</style>\n",
       "<table border=\"1\" class=\"dataframe\">\n",
       "  <thead>\n",
       "    <tr style=\"text-align: right;\">\n",
       "      <th></th>\n",
       "      <th>longitude</th>\n",
       "      <th>latitude</th>\n",
       "      <th>housing_median_age</th>\n",
       "      <th>total_rooms</th>\n",
       "      <th>total_bedrooms</th>\n",
       "      <th>population</th>\n",
       "      <th>households</th>\n",
       "      <th>median_income</th>\n",
       "      <th>median_house_value</th>\n",
       "      <th>ocean_proximity</th>\n",
       "      <th>rooms_per_household</th>\n",
       "      <th>bedrooms_per_room</th>\n",
       "      <th>population_per_household</th>\n",
       "      <th>above_average</th>\n",
       "    </tr>\n",
       "  </thead>\n",
       "  <tbody>\n",
       "    <tr>\n",
       "      <th>0</th>\n",
       "      <td>-118.35</td>\n",
       "      <td>34.07</td>\n",
       "      <td>45.0</td>\n",
       "      <td>7803.0</td>\n",
       "      <td>2154.0</td>\n",
       "      <td>3359.0</td>\n",
       "      <td>2041.0</td>\n",
       "      <td>3.3594</td>\n",
       "      <td>287500.0</td>\n",
       "      <td>&lt;1H OCEAN</td>\n",
       "      <td>3.823126</td>\n",
       "      <td>0.276048</td>\n",
       "      <td>1.645762</td>\n",
       "      <td>1</td>\n",
       "    </tr>\n",
       "    <tr>\n",
       "      <th>1</th>\n",
       "      <td>-117.25</td>\n",
       "      <td>32.82</td>\n",
       "      <td>23.0</td>\n",
       "      <td>6139.0</td>\n",
       "      <td>826.0</td>\n",
       "      <td>2036.0</td>\n",
       "      <td>807.0</td>\n",
       "      <td>9.5245</td>\n",
       "      <td>500001.0</td>\n",
       "      <td>NEAR OCEAN</td>\n",
       "      <td>7.607187</td>\n",
       "      <td>0.134550</td>\n",
       "      <td>2.522924</td>\n",
       "      <td>1</td>\n",
       "    </tr>\n",
       "    <tr>\n",
       "      <th>2</th>\n",
       "      <td>-121.54</td>\n",
       "      <td>40.06</td>\n",
       "      <td>17.0</td>\n",
       "      <td>858.0</td>\n",
       "      <td>262.0</td>\n",
       "      <td>47.0</td>\n",
       "      <td>27.0</td>\n",
       "      <td>2.4028</td>\n",
       "      <td>67500.0</td>\n",
       "      <td>INLAND</td>\n",
       "      <td>31.777778</td>\n",
       "      <td>0.305361</td>\n",
       "      <td>1.740741</td>\n",
       "      <td>0</td>\n",
       "    </tr>\n",
       "    <tr>\n",
       "      <th>3</th>\n",
       "      <td>-117.81</td>\n",
       "      <td>33.66</td>\n",
       "      <td>20.0</td>\n",
       "      <td>2851.0</td>\n",
       "      <td>490.0</td>\n",
       "      <td>1192.0</td>\n",
       "      <td>463.0</td>\n",
       "      <td>5.8752</td>\n",
       "      <td>274200.0</td>\n",
       "      <td>&lt;1H OCEAN</td>\n",
       "      <td>6.157667</td>\n",
       "      <td>0.171870</td>\n",
       "      <td>2.574514</td>\n",
       "      <td>1</td>\n",
       "    </tr>\n",
       "    <tr>\n",
       "      <th>4</th>\n",
       "      <td>-117.39</td>\n",
       "      <td>33.97</td>\n",
       "      <td>48.0</td>\n",
       "      <td>1915.0</td>\n",
       "      <td>348.0</td>\n",
       "      <td>1060.0</td>\n",
       "      <td>376.0</td>\n",
       "      <td>3.4044</td>\n",
       "      <td>117900.0</td>\n",
       "      <td>INLAND</td>\n",
       "      <td>5.093085</td>\n",
       "      <td>0.181723</td>\n",
       "      <td>2.819149</td>\n",
       "      <td>0</td>\n",
       "    </tr>\n",
       "    <tr>\n",
       "      <th>...</th>\n",
       "      <td>...</td>\n",
       "      <td>...</td>\n",
       "      <td>...</td>\n",
       "      <td>...</td>\n",
       "      <td>...</td>\n",
       "      <td>...</td>\n",
       "      <td>...</td>\n",
       "      <td>...</td>\n",
       "      <td>...</td>\n",
       "      <td>...</td>\n",
       "      <td>...</td>\n",
       "      <td>...</td>\n",
       "      <td>...</td>\n",
       "      <td>...</td>\n",
       "    </tr>\n",
       "    <tr>\n",
       "      <th>4123</th>\n",
       "      <td>-121.97</td>\n",
       "      <td>37.97</td>\n",
       "      <td>24.0</td>\n",
       "      <td>1330.0</td>\n",
       "      <td>183.0</td>\n",
       "      <td>656.0</td>\n",
       "      <td>205.0</td>\n",
       "      <td>5.0092</td>\n",
       "      <td>244100.0</td>\n",
       "      <td>INLAND</td>\n",
       "      <td>6.487805</td>\n",
       "      <td>0.137594</td>\n",
       "      <td>3.200000</td>\n",
       "      <td>1</td>\n",
       "    </tr>\n",
       "    <tr>\n",
       "      <th>4124</th>\n",
       "      <td>-119.18</td>\n",
       "      <td>34.18</td>\n",
       "      <td>31.0</td>\n",
       "      <td>2636.0</td>\n",
       "      <td>638.0</td>\n",
       "      <td>2695.0</td>\n",
       "      <td>614.0</td>\n",
       "      <td>3.2196</td>\n",
       "      <td>175800.0</td>\n",
       "      <td>NEAR OCEAN</td>\n",
       "      <td>4.293160</td>\n",
       "      <td>0.242033</td>\n",
       "      <td>4.389251</td>\n",
       "      <td>0</td>\n",
       "    </tr>\n",
       "    <tr>\n",
       "      <th>4125</th>\n",
       "      <td>-122.49</td>\n",
       "      <td>37.73</td>\n",
       "      <td>39.0</td>\n",
       "      <td>1937.0</td>\n",
       "      <td>336.0</td>\n",
       "      <td>742.0</td>\n",
       "      <td>307.0</td>\n",
       "      <td>5.1991</td>\n",
       "      <td>369400.0</td>\n",
       "      <td>NEAR OCEAN</td>\n",
       "      <td>6.309446</td>\n",
       "      <td>0.173464</td>\n",
       "      <td>2.416938</td>\n",
       "      <td>1</td>\n",
       "    </tr>\n",
       "    <tr>\n",
       "      <th>4126</th>\n",
       "      <td>-118.72</td>\n",
       "      <td>34.28</td>\n",
       "      <td>18.0</td>\n",
       "      <td>2229.0</td>\n",
       "      <td>371.0</td>\n",
       "      <td>1283.0</td>\n",
       "      <td>379.0</td>\n",
       "      <td>5.5955</td>\n",
       "      <td>217700.0</td>\n",
       "      <td>&lt;1H OCEAN</td>\n",
       "      <td>5.881266</td>\n",
       "      <td>0.166442</td>\n",
       "      <td>3.385224</td>\n",
       "      <td>1</td>\n",
       "    </tr>\n",
       "    <tr>\n",
       "      <th>4127</th>\n",
       "      <td>-122.62</td>\n",
       "      <td>38.25</td>\n",
       "      <td>24.0</td>\n",
       "      <td>2388.0</td>\n",
       "      <td>358.0</td>\n",
       "      <td>1187.0</td>\n",
       "      <td>362.0</td>\n",
       "      <td>4.6534</td>\n",
       "      <td>196500.0</td>\n",
       "      <td>&lt;1H OCEAN</td>\n",
       "      <td>6.596685</td>\n",
       "      <td>0.149916</td>\n",
       "      <td>3.279006</td>\n",
       "      <td>0</td>\n",
       "    </tr>\n",
       "  </tbody>\n",
       "</table>\n",
       "<p>4128 rows × 14 columns</p>\n",
       "</div>"
      ],
      "text/plain": [
       "      longitude  latitude  housing_median_age  total_rooms  total_bedrooms  \\\n",
       "0       -118.35     34.07                45.0       7803.0          2154.0   \n",
       "1       -117.25     32.82                23.0       6139.0           826.0   \n",
       "2       -121.54     40.06                17.0        858.0           262.0   \n",
       "3       -117.81     33.66                20.0       2851.0           490.0   \n",
       "4       -117.39     33.97                48.0       1915.0           348.0   \n",
       "...         ...       ...                 ...          ...             ...   \n",
       "4123    -121.97     37.97                24.0       1330.0           183.0   \n",
       "4124    -119.18     34.18                31.0       2636.0           638.0   \n",
       "4125    -122.49     37.73                39.0       1937.0           336.0   \n",
       "4126    -118.72     34.28                18.0       2229.0           371.0   \n",
       "4127    -122.62     38.25                24.0       2388.0           358.0   \n",
       "\n",
       "      population  households  median_income  median_house_value  \\\n",
       "0         3359.0      2041.0         3.3594            287500.0   \n",
       "1         2036.0       807.0         9.5245            500001.0   \n",
       "2           47.0        27.0         2.4028             67500.0   \n",
       "3         1192.0       463.0         5.8752            274200.0   \n",
       "4         1060.0       376.0         3.4044            117900.0   \n",
       "...          ...         ...            ...                 ...   \n",
       "4123       656.0       205.0         5.0092            244100.0   \n",
       "4124      2695.0       614.0         3.2196            175800.0   \n",
       "4125       742.0       307.0         5.1991            369400.0   \n",
       "4126      1283.0       379.0         5.5955            217700.0   \n",
       "4127      1187.0       362.0         4.6534            196500.0   \n",
       "\n",
       "     ocean_proximity  rooms_per_household  bedrooms_per_room  \\\n",
       "0          <1H OCEAN             3.823126           0.276048   \n",
       "1         NEAR OCEAN             7.607187           0.134550   \n",
       "2             INLAND            31.777778           0.305361   \n",
       "3          <1H OCEAN             6.157667           0.171870   \n",
       "4             INLAND             5.093085           0.181723   \n",
       "...              ...                  ...                ...   \n",
       "4123          INLAND             6.487805           0.137594   \n",
       "4124      NEAR OCEAN             4.293160           0.242033   \n",
       "4125      NEAR OCEAN             6.309446           0.173464   \n",
       "4126       <1H OCEAN             5.881266           0.166442   \n",
       "4127       <1H OCEAN             6.596685           0.149916   \n",
       "\n",
       "      population_per_household  above_average  \n",
       "0                     1.645762              1  \n",
       "1                     2.522924              1  \n",
       "2                     1.740741              0  \n",
       "3                     2.574514              1  \n",
       "4                     2.819149              0  \n",
       "...                        ...            ...  \n",
       "4123                  3.200000              1  \n",
       "4124                  4.389251              0  \n",
       "4125                  2.416938              1  \n",
       "4126                  3.385224              1  \n",
       "4127                  3.279006              0  \n",
       "\n",
       "[4128 rows x 14 columns]"
      ]
     },
     "execution_count": 19,
     "metadata": {},
     "output_type": "execute_result"
    }
   ],
   "source": [
    "df_val"
   ]
  },
  {
   "cell_type": "code",
   "execution_count": 20,
   "id": "a122dec9",
   "metadata": {},
   "outputs": [],
   "source": [
    "# get the target value\n",
    "\n",
    "y_train = df_train.above_average.values\n",
    "y_val = df_val.above_average.values\n",
    "y_test = df_test.above_average.values"
   ]
  },
  {
   "cell_type": "code",
   "execution_count": 21,
   "id": "2615de6c",
   "metadata": {},
   "outputs": [],
   "source": [
    "# delete the target value from the train dataset\n",
    "\n",
    "del df_train[\"median_house_value\"]\n",
    "del df_val[\"median_house_value\"]\n",
    "del df_test[\"median_house_value\"]"
   ]
  },
  {
   "cell_type": "code",
   "execution_count": 22,
   "id": "b86e44bc",
   "metadata": {},
   "outputs": [
    {
     "data": {
      "text/plain": [
       "((12384, 13), (4128, 13), (4128, 13))"
      ]
     },
     "execution_count": 22,
     "metadata": {},
     "output_type": "execute_result"
    }
   ],
   "source": [
    "df_train.shape, df_val.shape, df_test.shape"
   ]
  },
  {
   "cell_type": "code",
   "execution_count": 23,
   "id": "b3dac95d",
   "metadata": {},
   "outputs": [
    {
     "data": {
      "text/plain": [
       "(12384, 4128, 4128)"
      ]
     },
     "execution_count": 23,
     "metadata": {},
     "output_type": "execute_result"
    }
   ],
   "source": [
    "len(y_train), len(y_val), len(y_test)"
   ]
  },
  {
   "cell_type": "code",
   "execution_count": 24,
   "id": "232e00c9",
   "metadata": {},
   "outputs": [
    {
     "data": {
      "text/plain": [
       "Index(['longitude', 'latitude', 'housing_median_age', 'total_rooms',\n",
       "       'total_bedrooms', 'population', 'households', 'median_income',\n",
       "       'ocean_proximity', 'rooms_per_household', 'bedrooms_per_room',\n",
       "       'population_per_household', 'above_average'],\n",
       "      dtype='object')"
      ]
     },
     "execution_count": 24,
     "metadata": {},
     "output_type": "execute_result"
    }
   ],
   "source": [
    "df_train.columns"
   ]
  },
  {
   "cell_type": "code",
   "execution_count": 25,
   "id": "e3bc37db",
   "metadata": {},
   "outputs": [],
   "source": [
    "numerical = ['longitude', 'latitude', 'housing_median_age', 'total_rooms',\n",
    "       'total_bedrooms', 'population', 'households', 'median_income','rooms_per_household', 'bedrooms_per_room',\n",
    "       'population_per_household']"
   ]
  },
  {
   "cell_type": "code",
   "execution_count": 26,
   "id": "e24a4deb",
   "metadata": {},
   "outputs": [],
   "source": [
    "categorical = [\"ocean_proximity\"]"
   ]
  },
  {
   "cell_type": "code",
   "execution_count": 27,
   "id": "695c1bf4",
   "metadata": {},
   "outputs": [
    {
     "data": {
      "text/plain": [
       "longitude                   0.022101\n",
       "latitude                   -0.021744\n",
       "housing_median_age         -0.043580\n",
       "total_rooms                 0.314010\n",
       "total_bedrooms              0.319833\n",
       "population                  0.304466\n",
       "households                  0.312351\n",
       "median_income               0.065669\n",
       "rooms_per_household         0.076498\n",
       "bedrooms_per_room           0.018405\n",
       "population_per_household    0.094381\n",
       "dtype: float64"
      ]
     },
     "execution_count": 27,
     "metadata": {},
     "output_type": "execute_result"
    }
   ],
   "source": [
    "df_train[numerical].corr().mean()"
   ]
  },
  {
   "cell_type": "markdown",
   "id": "9d9be60d",
   "metadata": {},
   "source": [
    "### Question 3"
   ]
  },
  {
   "cell_type": "code",
   "execution_count": 28,
   "id": "feb75afb",
   "metadata": {},
   "outputs": [],
   "source": [
    "from sklearn.metrics import mutual_info_score"
   ]
  },
  {
   "cell_type": "code",
   "execution_count": 29,
   "id": "c30e8088",
   "metadata": {},
   "outputs": [
    {
     "data": {
      "text/plain": [
       "0.1"
      ]
     },
     "execution_count": 29,
     "metadata": {},
     "output_type": "execute_result"
    }
   ],
   "source": [
    "round(mutual_info_score(df_train['ocean_proximity'], df_train['above_average']),2)"
   ]
  },
  {
   "cell_type": "markdown",
   "id": "7d10ea3a",
   "metadata": {},
   "source": [
    "### Question 4"
   ]
  },
  {
   "cell_type": "code",
   "execution_count": 30,
   "id": "708c4065",
   "metadata": {},
   "outputs": [],
   "source": [
    "from sklearn.feature_extraction import DictVectorizer"
   ]
  },
  {
   "cell_type": "code",
   "execution_count": 31,
   "id": "e892a996",
   "metadata": {},
   "outputs": [],
   "source": [
    "dv = DictVectorizer(sparse = False)"
   ]
  },
  {
   "cell_type": "markdown",
   "id": "8d8392ce",
   "metadata": {},
   "source": [
    "#### Fitting the Train Data and Validation Data"
   ]
  },
  {
   "cell_type": "code",
   "execution_count": 32,
   "id": "3bf9c8fc",
   "metadata": {},
   "outputs": [],
   "source": [
    "train_dicts = df_train[categorical + numerical].to_dict(orient ='records')"
   ]
  },
  {
   "cell_type": "code",
   "execution_count": 33,
   "id": "081ccced",
   "metadata": {},
   "outputs": [],
   "source": [
    "val_dicts = df_val[categorical + numerical].to_dict(orient ='records')"
   ]
  },
  {
   "cell_type": "code",
   "execution_count": 34,
   "id": "6a6f216c",
   "metadata": {},
   "outputs": [],
   "source": [
    "X_train = dv.fit_transform(train_dicts)"
   ]
  },
  {
   "cell_type": "code",
   "execution_count": 35,
   "id": "bd2bd231",
   "metadata": {},
   "outputs": [],
   "source": [
    "X_val = dv.transform(val_dicts)"
   ]
  },
  {
   "cell_type": "markdown",
   "id": "85ab7a38",
   "metadata": {},
   "source": [
    "#### Training our Model"
   ]
  },
  {
   "cell_type": "code",
   "execution_count": 36,
   "id": "3be3080c",
   "metadata": {},
   "outputs": [],
   "source": [
    "from sklearn.linear_model import LogisticRegression"
   ]
  },
  {
   "cell_type": "code",
   "execution_count": 37,
   "id": "3bf694ad",
   "metadata": {},
   "outputs": [
    {
     "data": {
      "text/plain": [
       "LogisticRegression(max_iter=1000, random_state=42, solver='liblinear')"
      ]
     },
     "execution_count": 37,
     "metadata": {},
     "output_type": "execute_result"
    }
   ],
   "source": [
    "model = LogisticRegression(solver=\"liblinear\", C=1.0, max_iter=1000, random_state=42)\n",
    "model.fit(X_train, y_train)"
   ]
  },
  {
   "cell_type": "code",
   "execution_count": 38,
   "id": "f35e9285",
   "metadata": {},
   "outputs": [
    {
     "data": {
      "text/plain": [
       "array([ 0.237,  0.005,  0.037,  0.134,  0.094,  1.217,  0.51 , -1.81 ,\n",
       "        0.045,  0.264,  0.903, -0.002,  0.004,  0.009,  0.   , -0.   ])"
      ]
     },
     "execution_count": 38,
     "metadata": {},
     "output_type": "execute_result"
    }
   ],
   "source": [
    "# check then weight\n",
    "model.coef_[0].round(3)"
   ]
  },
  {
   "cell_type": "code",
   "execution_count": 39,
   "id": "500deac6",
   "metadata": {},
   "outputs": [
    {
     "data": {
      "text/plain": [
       "-0.08813883652599135"
      ]
     },
     "execution_count": 39,
     "metadata": {},
     "output_type": "execute_result"
    }
   ],
   "source": [
    "model.intercept_[0]"
   ]
  },
  {
   "cell_type": "code",
   "execution_count": 40,
   "id": "1aa0f7bd",
   "metadata": {},
   "outputs": [
    {
     "data": {
      "text/plain": [
       "array([0, 0, 0, ..., 1, 0, 0])"
      ]
     },
     "execution_count": 40,
     "metadata": {},
     "output_type": "execute_result"
    }
   ],
   "source": [
    "# Hard predictions\n",
    "model.predict(X_train)"
   ]
  },
  {
   "cell_type": "code",
   "execution_count": 41,
   "id": "6d1bdd10",
   "metadata": {},
   "outputs": [
    {
     "data": {
      "text/plain": [
       "array([0.99458129, 0.99942016, 0.01864608, ..., 0.92911225, 0.77418057,\n",
       "       0.62974903])"
      ]
     },
     "execution_count": 41,
     "metadata": {},
     "output_type": "execute_result"
    }
   ],
   "source": [
    "# soft prediction meaning that is a score\n",
    "model.predict_proba(X_val)[:, 1]"
   ]
  },
  {
   "cell_type": "code",
   "execution_count": 42,
   "id": "ebb0e8ff",
   "metadata": {},
   "outputs": [],
   "source": [
    "y_pred = model.predict(X_val)"
   ]
  },
  {
   "cell_type": "code",
   "execution_count": 43,
   "id": "d25099ae",
   "metadata": {},
   "outputs": [
    {
     "data": {
      "text/plain": [
       "array([1, 1, 0, ..., 1, 1, 1])"
      ]
     },
     "execution_count": 43,
     "metadata": {},
     "output_type": "execute_result"
    }
   ],
   "source": [
    "y_pred"
   ]
  },
  {
   "cell_type": "code",
   "execution_count": 44,
   "id": "b40eb183",
   "metadata": {},
   "outputs": [],
   "source": [
    "from sklearn.metrics import accuracy_score"
   ]
  },
  {
   "cell_type": "code",
   "execution_count": 45,
   "id": "35138c93",
   "metadata": {},
   "outputs": [
    {
     "data": {
      "text/plain": [
       "0.82"
      ]
     },
     "execution_count": 45,
     "metadata": {},
     "output_type": "execute_result"
    }
   ],
   "source": [
    "accuracy_score(y_val, y_pred).round(2)"
   ]
  },
  {
   "cell_type": "markdown",
   "id": "6371a4dd",
   "metadata": {},
   "source": [
    "### Question 5"
   ]
  },
  {
   "cell_type": "code",
   "execution_count": 46,
   "id": "9e5596d6",
   "metadata": {},
   "outputs": [],
   "source": [
    "# without total_room\n",
    "category_1 = ['longitude', 'latitude', 'housing_median_age','total_bedrooms','population', \n",
    "              'households', 'median_income','rooms_per_household', 'bedrooms_per_room','population_per_household']"
   ]
  },
  {
   "cell_type": "code",
   "execution_count": 47,
   "id": "29bf896d",
   "metadata": {},
   "outputs": [],
   "source": [
    "# without total_bedrooms\n",
    "category_2 = ['longitude', 'latitude', 'housing_median_age', 'total_rooms','population', \n",
    "              'households', 'median_income','rooms_per_household', 'bedrooms_per_room','population_per_household']"
   ]
  },
  {
   "cell_type": "code",
   "execution_count": 48,
   "id": "15198808",
   "metadata": {},
   "outputs": [],
   "source": [
    "# without population\n",
    "category_3 = ['longitude', 'latitude', 'housing_median_age', 'total_rooms','total_bedrooms', \n",
    "              'households', 'median_income','rooms_per_household', 'bedrooms_per_room','population_per_household']"
   ]
  },
  {
   "cell_type": "code",
   "execution_count": 49,
   "id": "9b9fd1f1",
   "metadata": {},
   "outputs": [],
   "source": [
    "# without households\n",
    "category_4 = ['longitude', 'latitude', 'housing_median_age', 'total_rooms','total_bedrooms','population', \n",
    "              'median_income','rooms_per_household', 'bedrooms_per_room','population_per_household']"
   ]
  }
 ],
 "metadata": {
  "kernelspec": {
   "display_name": "Python 3",
   "language": "python",
   "name": "python3"
  },
  "language_info": {
   "codemirror_mode": {
    "name": "ipython",
    "version": 3
   },
   "file_extension": ".py",
   "mimetype": "text/x-python",
   "name": "python",
   "nbconvert_exporter": "python",
   "pygments_lexer": "ipython3",
   "version": "3.8.8"
  }
 },
 "nbformat": 4,
 "nbformat_minor": 5
}
